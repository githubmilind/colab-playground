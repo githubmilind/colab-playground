{
  "nbformat": 4,
  "nbformat_minor": 0,
  "metadata": {
    "colab": {
      "provenance": [],
      "gpuType": "T4"
    },
    "kernelspec": {
      "name": "python3",
      "display_name": "Python 3"
    },
    "language_info": {
      "name": "python"
    },
    "accelerator": "GPU"
  },
  "cells": [
    {
      "cell_type": "markdown",
      "source": [
        "Fine Tune the model"
      ],
      "metadata": {
        "id": "JkTuYLwEP-EV"
      }
    },
    {
      "cell_type": "code",
      "source": [
        "!pip install torch transformers datasets scikit-learn"
      ],
      "metadata": {
        "id": "jAUV0DkQrDnt"
      },
      "execution_count": null,
      "outputs": []
    },
    {
      "cell_type": "code",
      "source": [
        "from transformers import BertTokenizer, BertForSequenceClassification\n",
        "\n",
        "tokenizer = BertTokenizer.from_pretrained('bert-base-uncased')\n",
        "model = BertForSequenceClassification.from_pretrained(\"bert-base-uncased\", num_labels=2)"
      ],
      "metadata": {
        "id": "QHCkuH3trdH5"
      },
      "execution_count": null,
      "outputs": []
    },
    {
      "cell_type": "code",
      "source": [
        "# create folder\n",
        "#!mkdir spam-bert"
      ],
      "metadata": {
        "id": "-TczRH8MEVE6"
      },
      "execution_count": null,
      "outputs": []
    },
    {
      "cell_type": "code",
      "source": [
        "import pandas as pd\n",
        "from datasets import Dataset\n",
        "\n",
        "spam_csv = \"https://github.com/githubmilind/colab-playground/blob/main/dataset/spam.txt?raw=true\"\n",
        "\n",
        "df = pd.read_csv(spam_csv, encoding = \"ISO-8859-1\", sep=\",\", on_bad_lines='skip')\n",
        "df = df.rename(columns={\"v1\":\"label\", \"v2\":\"text\"})"
      ],
      "metadata": {
        "id": "2utjmbe7sEio"
      },
      "execution_count": null,
      "outputs": []
    },
    {
      "cell_type": "code",
      "source": [
        "def tokenize(batch):\n",
        "  return tokenizer(batch[\"text\"], padding=\"max_length\", truncation=True)"
      ],
      "metadata": {
        "id": "vGchjVLwyYP3"
      },
      "execution_count": null,
      "outputs": []
    },
    {
      "cell_type": "code",
      "source": [
        "dataset = Dataset.from_pandas(df)\n",
        "dataset = dataset.map(tokenize, batched=True)\n",
        "dataset = dataset.rename_column(\"label\", \"labels\")"
      ],
      "metadata": {
        "id": "Vkbkv6YsysHj"
      },
      "execution_count": null,
      "outputs": []
    },
    {
      "cell_type": "code",
      "metadata": {
        "id": "971f4d1c"
      },
      "source": [
        "def map_label_to_int(example):\n",
        "    if example[\"labels\"] == \"ham\":\n",
        "        return {\"labels\": 0}\n",
        "    elif example[\"labels\"] == \"spam\":\n",
        "        return {\"labels\": 1}\n",
        "    else:\n",
        "        return {\"labels\": -1} # Or handle other cases as needed\n",
        "\n",
        "dataset = dataset.map(map_label_to_int)"
      ],
      "execution_count": null,
      "outputs": []
    },
    {
      "cell_type": "code",
      "source": [
        "dataset.set_format(\"torch\", columns=[\"input_ids\", \"attention_mask\", \"labels\"])"
      ],
      "metadata": {
        "id": "w-Ewi07qFMWj"
      },
      "execution_count": null,
      "outputs": []
    },
    {
      "cell_type": "code",
      "source": [
        "train_test = dataset.train_test_split(test_size=0.2)\n",
        "train_dataset = train_test[\"train\"]\n",
        "val_dataset = train_test[\"test\"]"
      ],
      "metadata": {
        "id": "2_6LIILRztp0"
      },
      "execution_count": null,
      "outputs": []
    },
    {
      "cell_type": "code",
      "source": [
        "# fine tune the model\n",
        "from transformers import Trainer, TrainingArguments\n",
        "\n",
        "training_args = TrainingArguments(\n",
        "    output_dir=\"./spam-bert\",\n",
        "    eval_strategy=\"epoch\",\n",
        "    save_strategy=\"epoch\",\n",
        "    learning_rate=2e-5,\n",
        "    per_device_train_batch_size=16,\n",
        "    per_device_eval_batch_size=16,\n",
        "    num_train_epochs=3,\n",
        "    weight_decay=0.01,\n",
        ")\n",
        "\n",
        "trainer = Trainer(\n",
        "    model=model,\n",
        "    args=training_args,\n",
        "    train_dataset=train_dataset,\n",
        "    eval_dataset=val_dataset,\n",
        ")\n",
        "\n",
        "trainer.train()"
      ],
      "metadata": {
        "id": "gIlLnLP0z7Ri"
      },
      "execution_count": null,
      "outputs": []
    },
    {
      "cell_type": "code",
      "source": [
        "metrics = trainer.evaluate()\n",
        "metrics"
      ],
      "metadata": {
        "id": "QyD8fSip7CgN"
      },
      "execution_count": null,
      "outputs": []
    },
    {
      "cell_type": "code",
      "source": [
        "print(metrics)"
      ],
      "metadata": {
        "id": "MKGc6ZT_94ZR"
      },
      "execution_count": null,
      "outputs": []
    },
    {
      "cell_type": "code",
      "source": [
        "trainer.save_model(\"./spam-bert\")"
      ],
      "metadata": {
        "id": "Hw-mM22NaTDg"
      },
      "execution_count": null,
      "outputs": []
    },
    {
      "cell_type": "code",
      "source": [
        "text = \"You won $1000, claim now!\"\n",
        "inputs = tokenizer(text, return_tensors=\"pt\", truncation=True, padding=True)\n",
        "\n",
        "# Move inputs to the same device as the model\n",
        "device = model.device\n",
        "inputs = {k: v.to(device) for k, v in inputs.items()}\n",
        "\n",
        "ouptuts = model(**inputs)\n",
        "pred = ouptuts.logits.argmax(dim=-1).item()\n",
        "print(\"Spam\" if pred == 1 else \"Ham\")"
      ],
      "metadata": {
        "id": "Gh0RDbIlaWhZ"
      },
      "execution_count": null,
      "outputs": []
    },
    {
      "cell_type": "code",
      "source": [
        "text = \"message me when you reach home.\"\n",
        "inputs = tokenizer(text, return_tensors=\"pt\", truncation=True, padding=True)\n",
        "\n",
        "# Move inputs to the same device as the model\n",
        "device = model.device\n",
        "inputs = {k: v.to(device) for k, v in inputs.items()}\n",
        "\n",
        "ouptuts = model(**inputs)\n",
        "pred = ouptuts.logits.argmax(dim=-1).item()\n",
        "print(\"Spam\" if pred == 1 else \"Ham\")"
      ],
      "metadata": {
        "id": "WB9nStuciuob"
      },
      "execution_count": null,
      "outputs": []
    }
  ]
}